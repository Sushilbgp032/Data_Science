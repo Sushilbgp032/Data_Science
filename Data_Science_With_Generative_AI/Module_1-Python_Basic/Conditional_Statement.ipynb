{
 "cells": [
  {
   "cell_type": "markdown",
   "id": "9c37374f-43a8-4f15-9e35-7ac8772e98f8",
   "metadata": {},
   "source": [
    "# Conditional Statements >> Coding your decision based on some condition\n"
   ]
  },
  {
   "cell_type": "code",
   "execution_count": 5,
   "id": "cba83327-01bc-44e9-9f23-aa8003a9f75d",
   "metadata": {},
   "outputs": [],
   "source": [
    "# syntax\n",
    "# if condition true:\n",
    "#     block of code execute"
   ]
  },
  {
   "cell_type": "code",
   "execution_count": 7,
   "id": "38ed26de-0928-4f35-9283-be8c14463646",
   "metadata": {},
   "outputs": [
    {
     "data": {
      "text/plain": [
       "False"
      ]
     },
     "execution_count": 7,
     "metadata": {},
     "output_type": "execute_result"
    }
   ],
   "source": [
    "4>5"
   ]
  },
  {
   "cell_type": "code",
   "execution_count": 9,
   "id": "125eae0d-ca28-4f91-af23-f84485cd7b2c",
   "metadata": {},
   "outputs": [
    {
     "data": {
      "text/plain": [
       "True"
      ]
     },
     "execution_count": 9,
     "metadata": {},
     "output_type": "execute_result"
    }
   ],
   "source": [
    "1<2"
   ]
  },
  {
   "cell_type": "code",
   "execution_count": 11,
   "id": "e418bd5a-626f-4560-96a0-a1d0942cfe52",
   "metadata": {},
   "outputs": [
    {
     "data": {
      "text/plain": [
       "False"
      ]
     },
     "execution_count": 11,
     "metadata": {},
     "output_type": "execute_result"
    }
   ],
   "source": [
    "2 > 100"
   ]
  },
  {
   "cell_type": "code",
   "execution_count": 13,
   "id": "3d1c2fcb-72f2-408f-ac69-acbcfeb02ebd",
   "metadata": {},
   "outputs": [
    {
     "name": "stdout",
     "output_type": "stream",
     "text": [
      "The no is greater then 1oo\n"
     ]
    }
   ],
   "source": [
    "a = 200\n",
    "if a> 100: # to execute the if block condition should be true\n",
    "    print(\"The no is greater then 1oo\")\n"
   ]
  },
  {
   "cell_type": "code",
   "execution_count": 25,
   "id": "73a23917-9965-43c2-9de4-7005c3423f45",
   "metadata": {},
   "outputs": [
    {
     "name": "stdout",
     "output_type": "stream",
     "text": [
      "home is weather\n"
     ]
    }
   ],
   "source": [
    "weather = \"rainy\"\n",
    "if weather == \"rainy\":\n",
    "    print(\"home is weather\")"
   ]
  },
  {
   "cell_type": "code",
   "execution_count": 27,
   "id": "0ff51cc3-5948-42b7-8bab-180e92045fd4",
   "metadata": {},
   "outputs": [
    {
     "name": "stdout",
     "output_type": "stream",
     "text": [
      "room temp\n"
     ]
    }
   ],
   "source": [
    "temp = 30\n",
    "if temp > 25:\n",
    "    print (\"room temp\")"
   ]
  },
  {
   "cell_type": "code",
   "execution_count": 33,
   "id": "12fe07b5-f1bc-4682-b76d-965f8d445e85",
   "metadata": {},
   "outputs": [
    {
     "name": "stdout",
     "output_type": "stream",
     "text": [
      "x is not geater than 5 \n"
     ]
    }
   ],
   "source": [
    "x = 1\n",
    "if x > 5 :\n",
    "    print(\"a is greter than 5\")\n",
    "else:\n",
    "    print(\"x is not geater than 5 \")"
   ]
  },
  {
   "cell_type": "code",
   "execution_count": 35,
   "id": "48b4ceb4-7319-4852-b658-c374b8bc5902",
   "metadata": {},
   "outputs": [
    {
     "data": {
      "text/plain": [
       "0"
      ]
     },
     "execution_count": 35,
     "metadata": {},
     "output_type": "execute_result"
    }
   ],
   "source": [
    "# to check if a no is even\n",
    "6 % 2"
   ]
  },
  {
   "cell_type": "code",
   "execution_count": 37,
   "id": "1085c9cb-79cd-48eb-b32f-94e954c425d6",
   "metadata": {},
   "outputs": [
    {
     "name": "stdout",
     "output_type": "stream",
     "text": [
      "odd\n"
     ]
    }
   ],
   "source": [
    "num = 7\n",
    "if num % 2 == 0:\n",
    "    print(\"even\")\n",
    "else:\n",
    "    print(\"odd\")\n",
    "    "
   ]
  },
  {
   "cell_type": "markdown",
   "id": "c891bbe3-bb5c-4505-9e44-ee8077878450",
   "metadata": {},
   "source": [
    "# if - else"
   ]
  },
  {
   "cell_type": "code",
   "execution_count": 47,
   "id": "7967b844-4afc-4e2f-a32e-31f6bce5b2c2",
   "metadata": {},
   "outputs": [
    {
     "name": "stdout",
     "output_type": "stream",
     "text": [
      "the number is equal to 100:\n"
     ]
    }
   ],
   "source": [
    "# if - else\n",
    "a =100\n",
    "if a > 100:\n",
    "    print(\"will execute is a greater then  100\")\n",
    "elif a < 100:\n",
    "    print(\"will execute if a is lesser than 100\")\n",
    "else:\n",
    "    print(\"the number is equal to 100:\")"
   ]
  },
  {
   "cell_type": "code",
   "execution_count": 53,
   "id": "a830a675-d989-4721-bf30-062cdc1133fc",
   "metadata": {},
   "outputs": [
    {
     "name": "stdout",
     "output_type": "stream",
     "text": [
      "grade b\n"
     ]
    }
   ],
   "source": [
    "score = 80\n",
    "if score >= 90:\n",
    "    print(\"grade a\")\n",
    "elif (80<= score <=90):\n",
    "    print(\"grade b\")\n",
    "else:\n",
    "    print(\"grade less than b\")"
   ]
  },
  {
   "cell_type": "code",
   "execution_count": 61,
   "id": "82596e5c-7c6b-4763-a9f3-9152a43e3c0f",
   "metadata": {},
   "outputs": [
    {
     "name": "stdout",
     "output_type": "stream",
     "text": [
      "good afternoon\n"
     ]
    }
   ],
   "source": [
    "hour = 14\n",
    "if hour < 12:\n",
    "    print(\"good morning\")\n",
    "elif(12<= hour <= 17):\n",
    "        print(\"good afternoon\")\n",
    "else:\n",
    "    print(\"good night\")"
   ]
  },
  {
   "cell_type": "code",
   "execution_count": 63,
   "id": "2163f5de-bc10-43e7-8390-900be75f771b",
   "metadata": {},
   "outputs": [
    {
     "name": "stdout",
     "output_type": "stream",
     "text": [
      "you are adult\n"
     ]
    }
   ],
   "source": [
    " age = 30\n",
    "if age <18:\n",
    "    print(\"Age is manor\")\n",
    "elif 18 <= age <= 65:\n",
    "    print(\"you are adult\")\n",
    "else:\n",
    "    print(\"you are a semoir citizen\")"
   ]
  },
  {
   "cell_type": "markdown",
   "id": "7e469fe6-e96e-401a-be03-d5be785fad07",
   "metadata": {},
   "source": [
    "# Nested if else condition"
   ]
  },
  {
   "cell_type": "code",
   "execution_count": 76,
   "id": "1f1b5ca3-bcef-4b52-818a-b5bdcf118603",
   "metadata": {},
   "outputs": [
    {
     "name": "stdout",
     "output_type": "stream",
     "text": [
      "x is not greater than 5\n"
     ]
    }
   ],
   "source": [
    "x = 1\n",
    "y = 6\n",
    "if x > 5:\n",
    "    if y > 5:\n",
    "        print(\"both x and y is graeter than 5\")\n",
    "    else:\n",
    "        print(\"x is graeter than 5 but y is not \")\n",
    "else:\n",
    "    print(\"x is not greater than 5\")"
   ]
  },
  {
   "cell_type": "code",
   "execution_count": 82,
   "id": "848958d4-04e1-4966-8376-b75c2c256f8b",
   "metadata": {},
   "outputs": [
    {
     "name": "stdin",
     "output_type": "stream",
     "text": [
      "Enter a no 2\n"
     ]
    },
    {
     "name": "stdout",
     "output_type": "stream",
     "text": [
      "a is less than 100:\n"
     ]
    }
   ],
   "source": [
    "a =int (input(\"Enter a no\"))\n",
    "if a  >= 100:\n",
    "    print(\"no is greater than 100:\")\n",
    "elif 0<a<100:\n",
    "        print(\"a is less than 100:\")\n",
    "else :\n",
    "    print(\"else part is executed\")\n",
    "\n"
   ]
  },
  {
   "cell_type": "code",
   "execution_count": null,
   "id": "4d600af3-7443-4a50-81be-d62eacdc29b8",
   "metadata": {},
   "outputs": [],
   "source": []
  }
 ],
 "metadata": {
  "kernelspec": {
   "display_name": "Python 3 (ipykernel)",
   "language": "python",
   "name": "python3"
  },
  "language_info": {
   "codemirror_mode": {
    "name": "ipython",
    "version": 3
   },
   "file_extension": ".py",
   "mimetype": "text/x-python",
   "name": "python",
   "nbconvert_exporter": "python",
   "pygments_lexer": "ipython3",
   "version": "3.12.4"
  }
 },
 "nbformat": 4,
 "nbformat_minor": 5
}
