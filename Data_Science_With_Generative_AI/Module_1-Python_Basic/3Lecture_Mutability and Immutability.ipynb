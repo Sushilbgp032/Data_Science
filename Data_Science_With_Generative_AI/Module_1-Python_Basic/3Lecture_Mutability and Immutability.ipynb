{
 "cells": [
  {
   "cell_type": "code",
   "execution_count": 1,
   "id": "f7474d53-daa0-467d-9053-1c62af3798d5",
   "metadata": {},
   "outputs": [],
   "source": [
    "a = 3"
   ]
  },
  {
   "cell_type": "code",
   "execution_count": 3,
   "id": "9426d352-a1bc-4ab4-bd74-c8b148ea8bf2",
   "metadata": {},
   "outputs": [
    {
     "data": {
      "text/plain": [
       "3"
      ]
     },
     "execution_count": 3,
     "metadata": {},
     "output_type": "execute_result"
    }
   ],
   "source": [
    "a"
   ]
  },
  {
   "cell_type": "code",
   "execution_count": 5,
   "id": "da8497f0-b616-41f3-941e-3f2db6b4320b",
   "metadata": {},
   "outputs": [],
   "source": [
    "b = \"Sushil\""
   ]
  },
  {
   "cell_type": "code",
   "execution_count": 7,
   "id": "d0057ad5-c882-4a89-b1ca-c52d1930ee60",
   "metadata": {},
   "outputs": [
    {
     "data": {
      "text/plain": [
       "'Sushil'"
      ]
     },
     "execution_count": 7,
     "metadata": {},
     "output_type": "execute_result"
    }
   ],
   "source": [
    "b"
   ]
  },
  {
   "cell_type": "code",
   "execution_count": 9,
   "id": "10ae8c36-082c-446f-b384-503dd02e676c",
   "metadata": {},
   "outputs": [
    {
     "data": {
      "text/plain": [
       "'s'"
      ]
     },
     "execution_count": 9,
     "metadata": {},
     "output_type": "execute_result"
    }
   ],
   "source": [
    "b[2]"
   ]
  },
  {
   "cell_type": "code",
   "execution_count": 11,
   "id": "80044435-f296-45f7-827e-fe487bb68e5f",
   "metadata": {},
   "outputs": [
    {
     "data": {
      "text/plain": [
       "'i'"
      ]
     },
     "execution_count": 11,
     "metadata": {},
     "output_type": "execute_result"
    }
   ],
   "source": [
    "b[-2]"
   ]
  },
  {
   "cell_type": "code",
   "execution_count": 15,
   "id": "53874ccb-0738-4cea-96a4-c672e5fe3777",
   "metadata": {},
   "outputs": [],
   "source": [
    "#another type of container\n",
    "list_cont = [1, 2, 3, \"Sushil\", 3+5j, True,\"s\"]"
   ]
  },
  {
   "cell_type": "code",
   "execution_count": 17,
   "id": "055ebfc4-edef-426d-81ca-50ef4c5f3b8f",
   "metadata": {},
   "outputs": [
    {
     "data": {
      "text/plain": [
       "list"
      ]
     },
     "execution_count": 17,
     "metadata": {},
     "output_type": "execute_result"
    }
   ],
   "source": [
    "type(list_cont)"
   ]
  },
  {
   "cell_type": "code",
   "execution_count": 19,
   "id": "290674e5-d52f-49a9-8e0c-fb1e956628b9",
   "metadata": {},
   "outputs": [
    {
     "data": {
      "text/plain": [
       "'Sushil'"
      ]
     },
     "execution_count": 19,
     "metadata": {},
     "output_type": "execute_result"
    }
   ],
   "source": [
    "list_cont[3]"
   ]
  },
  {
   "cell_type": "code",
   "execution_count": 21,
   "id": "defb3d8a-28f4-4293-9a44-3efc99225a30",
   "metadata": {},
   "outputs": [],
   "source": [
    "list_cont[3] = \"saurav\""
   ]
  },
  {
   "cell_type": "code",
   "execution_count": 23,
   "id": "eabae321-fc88-47b6-97e8-cff0b7ddfa3a",
   "metadata": {},
   "outputs": [
    {
     "data": {
      "text/plain": [
       "[1, 2, 3, 'saurav', (3+5j), True, 's']"
      ]
     },
     "execution_count": 23,
     "metadata": {},
     "output_type": "execute_result"
    }
   ],
   "source": [
    "list_cont"
   ]
  },
  {
   "cell_type": "code",
   "execution_count": 25,
   "id": "6be8a208-97a2-430e-bbc1-3a40293fa544",
   "metadata": {},
   "outputs": [],
   "source": [
    "#object / container whose state or value can be change after  they are  created are called mutable"
   ]
  },
  {
   "cell_type": "code",
   "execution_count": 31,
   "id": "c4db3b92-40d9-4a3c-ab96-8f46a91a0d00",
   "metadata": {},
   "outputs": [],
   "source": [
    "b = \"pwskills\""
   ]
  },
  {
   "cell_type": "code",
   "execution_count": 33,
   "id": "8493cbee-0d4a-4b49-91a9-4558e9ae2086",
   "metadata": {},
   "outputs": [
    {
     "data": {
      "text/plain": [
       "'s'"
      ]
     },
     "execution_count": 33,
     "metadata": {},
     "output_type": "execute_result"
    }
   ],
   "source": [
    "b[2]"
   ]
  },
  {
   "cell_type": "code",
   "execution_count": 35,
   "id": "67a84c50-126e-41ca-8dcf-7388dc215e09",
   "metadata": {},
   "outputs": [
    {
     "ename": "TypeError",
     "evalue": "'str' object does not support item assignment",
     "output_type": "error",
     "traceback": [
      "\u001b[1;31m---------------------------------------------------------------------------\u001b[0m",
      "\u001b[1;31mTypeError\u001b[0m                                 Traceback (most recent call last)",
      "Cell \u001b[1;32mIn[35], line 1\u001b[0m\n\u001b[1;32m----> 1\u001b[0m b[\u001b[38;5;241m2\u001b[39m] \u001b[38;5;241m=\u001b[39m \u001b[38;5;124m\"\u001b[39m\u001b[38;5;124mi\u001b[39m\u001b[38;5;124m\"\u001b[39m\n",
      "\u001b[1;31mTypeError\u001b[0m: 'str' object does not support item assignment"
     ]
    }
   ],
   "source": [
    "b[2] = \"i\""
   ]
  },
  {
   "cell_type": "code",
   "execution_count": null,
   "id": "54b7d61c-b9c0-436f-875d-b4643f5f8f45",
   "metadata": {},
   "outputs": [],
   "source": []
  }
 ],
 "metadata": {
  "kernelspec": {
   "display_name": "Python 3 (ipykernel)",
   "language": "python",
   "name": "python3"
  },
  "language_info": {
   "codemirror_mode": {
    "name": "ipython",
    "version": 3
   },
   "file_extension": ".py",
   "mimetype": "text/x-python",
   "name": "python",
   "nbconvert_exporter": "python",
   "pygments_lexer": "ipython3",
   "version": "3.12.4"
  }
 },
 "nbformat": 4,
 "nbformat_minor": 5
}
