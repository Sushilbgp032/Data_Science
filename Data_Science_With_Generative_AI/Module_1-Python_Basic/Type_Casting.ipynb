{
 "cells": [
  {
   "cell_type": "markdown",
   "id": "d1b51f22-a6fb-4256-b2b3-db38aa6909e7",
   "metadata": {},
   "source": [
    "# Type conversion >> The process of changing  the data type  of value or object in python \n"
   ]
  },
  {
   "cell_type": "code",
   "execution_count": 25,
   "id": "a7937905-531e-4da1-bf60-2b48ed70f72e",
   "metadata": {},
   "outputs": [],
   "source": [
    "x = 4"
   ]
  },
  {
   "cell_type": "code",
   "execution_count": null,
   "id": "10bac6d9-73bd-477f-9ea9-32c199fb567b",
   "metadata": {},
   "outputs": [],
   "source": []
  },
  {
   "cell_type": "code",
   "execution_count": 21,
   "id": "b64e029d-c594-4ed1-9f5e-4dd7a7f3c61b",
   "metadata": {},
   "outputs": [
    {
     "data": {
      "text/plain": [
       "int"
      ]
     },
     "execution_count": 21,
     "metadata": {},
     "output_type": "execute_result"
    }
   ],
   "source": [
    "type(2)"
   ]
  },
  {
   "cell_type": "code",
   "execution_count": 27,
   "id": "6a83cc68-ca8e-4993-b791-fd4b2057e8c2",
   "metadata": {},
   "outputs": [
    {
     "ename": "NameError",
     "evalue": "name 'a' is not defined",
     "output_type": "error",
     "traceback": [
      "\u001b[1;31m---------------------------------------------------------------------------\u001b[0m",
      "\u001b[1;31mNameError\u001b[0m                                 Traceback (most recent call last)",
      "Cell \u001b[1;32mIn[27], line 1\u001b[0m\n\u001b[1;32m----> 1\u001b[0m \u001b[38;5;28mtype\u001b[39m(a)\n",
      "\u001b[1;31mNameError\u001b[0m: name 'a' is not defined"
     ]
    }
   ],
   "source": [
    "type(a)"
   ]
  },
  {
   "cell_type": "markdown",
   "id": "98e44d64-ae03-485b-9a5f-8b7d3c7cadf5",
   "metadata": {},
   "source": [
    "# Type casting >>  Implicit and explicit"
   ]
  },
  {
   "cell_type": "code",
   "execution_count": 29,
   "id": "9e392b7a-dcbe-48f9-aa35-ad149a46e570",
   "metadata": {},
   "outputs": [
    {
     "data": {
      "text/plain": [
       "5.5"
      ]
     },
     "execution_count": 29,
     "metadata": {},
     "output_type": "execute_result"
    }
   ],
   "source": [
    "2 +3.5"
   ]
  },
  {
   "cell_type": "code",
   "execution_count": 31,
   "id": "9f2aeca4-5cf4-406e-a678-0b746594ef7b",
   "metadata": {},
   "outputs": [],
   "source": [
    "a = \"5\""
   ]
  },
  {
   "cell_type": "code",
   "execution_count": 33,
   "id": "6cda01a3-f729-4488-a313-5805f22c1b35",
   "metadata": {},
   "outputs": [
    {
     "data": {
      "text/plain": [
       "str"
      ]
     },
     "execution_count": 33,
     "metadata": {},
     "output_type": "execute_result"
    }
   ],
   "source": [
    "type(a)"
   ]
  },
  {
   "cell_type": "code",
   "execution_count": 35,
   "id": "05a3807b-87f0-4560-b102-a24097ec1769",
   "metadata": {},
   "outputs": [
    {
     "data": {
      "text/plain": [
       "'RamShyam'"
      ]
     },
     "execution_count": 35,
     "metadata": {},
     "output_type": "execute_result"
    }
   ],
   "source": [
    "\"Ram\"  + \"Shyam\""
   ]
  },
  {
   "cell_type": "code",
   "execution_count": 37,
   "id": "95d0e72d-ed29-4c6a-9c53-b3162e532ad5",
   "metadata": {},
   "outputs": [
    {
     "data": {
      "text/plain": [
       "str"
      ]
     },
     "execution_count": 37,
     "metadata": {},
     "output_type": "execute_result"
    }
   ],
   "source": [
    "type(a)"
   ]
  },
  {
   "cell_type": "code",
   "execution_count": 39,
   "id": "5175a482-2d07-492e-bc7d-f9342ef20869",
   "metadata": {},
   "outputs": [
    {
     "data": {
      "text/plain": [
       "'5Shyam'"
      ]
     },
     "execution_count": 39,
     "metadata": {},
     "output_type": "execute_result"
    }
   ],
   "source": [
    "a + \"Shyam\""
   ]
  },
  {
   "cell_type": "markdown",
   "id": "a1a0333c-fa94-4122-b789-d22abbe6fc23",
   "metadata": {},
   "source": [
    "# Explicit type conversion >> Convert data type using inbuilt function\n",
    "#string\n",
    "#int\n",
    "#float\n",
    "#bool"
   ]
  },
  {
   "cell_type": "code",
   "execution_count": 51,
   "id": "704af7eb-0484-486e-b10b-dbf447dfac84",
   "metadata": {},
   "outputs": [],
   "source": [
    "x = 22.5\n",
    "y = int(22.5)\n"
   ]
  },
  {
   "cell_type": "code",
   "execution_count": 53,
   "id": "00c4363c-69ef-488e-a070-aa87f40ca98c",
   "metadata": {},
   "outputs": [
    {
     "data": {
      "text/plain": [
       "int"
      ]
     },
     "execution_count": 53,
     "metadata": {},
     "output_type": "execute_result"
    }
   ],
   "source": [
    "type(y)"
   ]
  },
  {
   "cell_type": "code",
   "execution_count": 55,
   "id": "2a76b0a8-3c5d-43a5-b993-2075b9ebf560",
   "metadata": {},
   "outputs": [
    {
     "data": {
      "text/plain": [
       "22"
      ]
     },
     "execution_count": 55,
     "metadata": {},
     "output_type": "execute_result"
    }
   ],
   "source": [
    "y"
   ]
  },
  {
   "cell_type": "code",
   "execution_count": 67,
   "id": "d31940eb-3a52-4b22-8c51-232895b72bed",
   "metadata": {},
   "outputs": [],
   "source": [
    "s = \"33\"\n",
    "a = int(s)"
   ]
  },
  {
   "cell_type": "code",
   "execution_count": 69,
   "id": "880f72ca-fe6d-4fa2-a350-64f0d0e0130e",
   "metadata": {},
   "outputs": [
    {
     "data": {
      "text/plain": [
       "int"
      ]
     },
     "execution_count": 69,
     "metadata": {},
     "output_type": "execute_result"
    }
   ],
   "source": [
    "type(a)"
   ]
  },
  {
   "cell_type": "code",
   "execution_count": 71,
   "id": "35de987a-96fc-4099-84c7-5c045d520594",
   "metadata": {},
   "outputs": [],
   "source": [
    "b = \"33.5\"\n",
    "c = float(b)"
   ]
  },
  {
   "cell_type": "code",
   "execution_count": 73,
   "id": "11887db2-18bc-4501-8818-29b30ec5770e",
   "metadata": {},
   "outputs": [
    {
     "data": {
      "text/plain": [
       "33.5"
      ]
     },
     "execution_count": 73,
     "metadata": {},
     "output_type": "execute_result"
    }
   ],
   "source": [
    "c"
   ]
  },
  {
   "cell_type": "code",
   "execution_count": 75,
   "id": "d2da3cfd-016a-45aa-89fd-92f99b065100",
   "metadata": {},
   "outputs": [
    {
     "data": {
      "text/plain": [
       "float"
      ]
     },
     "execution_count": 75,
     "metadata": {},
     "output_type": "execute_result"
    }
   ],
   "source": [
    "type(c)"
   ]
  },
  {
   "cell_type": "code",
   "execution_count": 77,
   "id": "20a96043-6b75-4beb-afb0-5510fa5fc312",
   "metadata": {},
   "outputs": [
    {
     "data": {
      "text/plain": [
       "False"
      ]
     },
     "execution_count": 77,
     "metadata": {},
     "output_type": "execute_result"
    }
   ],
   "source": [
    "bool(0)"
   ]
  },
  {
   "cell_type": "code",
   "execution_count": 81,
   "id": "decfa4f8-eb5d-44cf-a2b3-65b5decd4642",
   "metadata": {},
   "outputs": [
    {
     "data": {
      "text/plain": [
       "True"
      ]
     },
     "execution_count": 81,
     "metadata": {},
     "output_type": "execute_result"
    }
   ],
   "source": [
    "bool(1)"
   ]
  },
  {
   "cell_type": "code",
   "execution_count": null,
   "id": "0af3ae09-d829-42b1-9504-199d2993dc63",
   "metadata": {},
   "outputs": [],
   "source": []
  }
 ],
 "metadata": {
  "kernelspec": {
   "display_name": "Python 3 (ipykernel)",
   "language": "python",
   "name": "python3"
  },
  "language_info": {
   "codemirror_mode": {
    "name": "ipython",
    "version": 3
   },
   "file_extension": ".py",
   "mimetype": "text/x-python",
   "name": "python",
   "nbconvert_exporter": "python",
   "pygments_lexer": "ipython3",
   "version": "3.12.4"
  }
 },
 "nbformat": 4,
 "nbformat_minor": 5
}
