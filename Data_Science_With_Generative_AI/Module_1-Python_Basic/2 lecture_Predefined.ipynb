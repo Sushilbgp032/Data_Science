{
 "cells": [
  {
   "cell_type": "code",
   "execution_count": 1,
   "id": "3fea07c8-a7f8-4255-926d-62501d5caaaf",
   "metadata": {},
   "outputs": [],
   "source": [
    "a = 3"
   ]
  },
  {
   "cell_type": "code",
   "execution_count": 3,
   "id": "87c0ab3c-6c45-46c6-9ae3-07a00280c7c7",
   "metadata": {},
   "outputs": [
    {
     "data": {
      "text/plain": [
       "3"
      ]
     },
     "execution_count": 3,
     "metadata": {},
     "output_type": "execute_result"
    }
   ],
   "source": [
    "a"
   ]
  },
  {
   "cell_type": "code",
   "execution_count": 5,
   "id": "0ecb6265-92a5-401a-90e4-1eeb92b6d964",
   "metadata": {},
   "outputs": [],
   "source": [
    "b = \"Sushil\""
   ]
  },
  {
   "cell_type": "code",
   "execution_count": 7,
   "id": "e9d33042-32d0-4ac2-b952-8b5efb1e7b14",
   "metadata": {},
   "outputs": [
    {
     "data": {
      "text/plain": [
       "'Sushil'"
      ]
     },
     "execution_count": 7,
     "metadata": {},
     "output_type": "execute_result"
    }
   ],
   "source": [
    "b"
   ]
  },
  {
   "cell_type": "code",
   "execution_count": 9,
   "id": "76d61c79-1157-4031-bd84-3daac6d4dfca",
   "metadata": {},
   "outputs": [
    {
     "data": {
      "text/plain": [
       "'s'"
      ]
     },
     "execution_count": 9,
     "metadata": {},
     "output_type": "execute_result"
    }
   ],
   "source": [
    "b[2]"
   ]
  },
  {
   "cell_type": "code",
   "execution_count": 11,
   "id": "c08e6d20-222a-46dc-8d05-9f7bbaf1ec04",
   "metadata": {},
   "outputs": [
    {
     "data": {
      "text/plain": [
       "'i'"
      ]
     },
     "execution_count": 11,
     "metadata": {},
     "output_type": "execute_result"
    }
   ],
   "source": [
    "b[-2]"
   ]
  },
  {
   "cell_type": "markdown",
   "id": "5cff8234-02ec-45ba-b735-748b05b84395",
   "metadata": {},
   "source": [
    "# Another type of data container"
   ]
  },
  {
   "cell_type": "code",
   "execution_count": 13,
   "id": "c21ae9f2-253d-4bfe-a84b-2a07679a77bc",
   "metadata": {},
   "outputs": [],
   "source": [
    "\n",
    "list_cont= [1, 2, 3, \"Sushil\", 3+5j, True, \"a\"]"
   ]
  },
  {
   "cell_type": "code",
   "execution_count": 15,
   "id": "9645788d-f7a7-4462-b54d-8ee1c050ea10",
   "metadata": {},
   "outputs": [
    {
     "data": {
      "text/plain": [
       "list"
      ]
     },
     "execution_count": 15,
     "metadata": {},
     "output_type": "execute_result"
    }
   ],
   "source": [
    "type(list_cont)"
   ]
  },
  {
   "cell_type": "code",
   "execution_count": 17,
   "id": "85adf3b3-e367-4adb-b8c7-8392f1401e5e",
   "metadata": {},
   "outputs": [
    {
     "data": {
      "text/plain": [
       "'Sushil'"
      ]
     },
     "execution_count": 17,
     "metadata": {},
     "output_type": "execute_result"
    }
   ],
   "source": [
    "list_cont[3]"
   ]
  },
  {
   "cell_type": "code",
   "execution_count": 19,
   "id": "b2af4963-2416-49dc-9e9e-7e470aedc6f5",
   "metadata": {},
   "outputs": [],
   "source": [
    "list_cont[3] = \"nitesh\""
   ]
  },
  {
   "cell_type": "code",
   "execution_count": 21,
   "id": "b59b4716-24ea-448b-acb8-b0ba6b5243f8",
   "metadata": {},
   "outputs": [
    {
     "data": {
      "text/plain": [
       "[1, 2, 3, 'nitesh', (3+5j), True, 'a']"
      ]
     },
     "execution_count": 21,
     "metadata": {},
     "output_type": "execute_result"
    }
   ],
   "source": [
    "list_cont"
   ]
  },
  {
   "cell_type": "code",
   "execution_count": null,
   "id": "6dd19350-8060-4f58-9e44-6319934b28eb",
   "metadata": {},
   "outputs": [],
   "source": []
  }
 ],
 "metadata": {
  "kernelspec": {
   "display_name": "Python 3 (ipykernel)",
   "language": "python",
   "name": "python3"
  },
  "language_info": {
   "codemirror_mode": {
    "name": "ipython",
    "version": 3
   },
   "file_extension": ".py",
   "mimetype": "text/x-python",
   "name": "python",
   "nbconvert_exporter": "python",
   "pygments_lexer": "ipython3",
   "version": "3.12.4"
  }
 },
 "nbformat": 4,
 "nbformat_minor": 5
}
