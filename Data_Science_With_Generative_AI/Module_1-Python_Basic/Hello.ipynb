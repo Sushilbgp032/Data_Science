{
 "cells": [
  {
   "cell_type": "code",
   "execution_count": 1,
   "id": "6f31d4bc-1a66-44db-81a9-2eee2563ba0a",
   "metadata": {},
   "outputs": [
    {
     "name": "stdout",
     "output_type": "stream",
     "text": [
      "hello world\n"
     ]
    }
   ],
   "source": [
    "print(\"hello world\")"
   ]
  },
  {
   "cell_type": "code",
   "execution_count": 3,
   "id": "263825ce-d36f-40f7-abaf-5d78f0e4d6cd",
   "metadata": {},
   "outputs": [],
   "source": [
    "a = 3"
   ]
  },
  {
   "cell_type": "code",
   "execution_count": 4,
   "id": "00ab725c-a04b-4af5-a1ef-0e3c66bd198b",
   "metadata": {},
   "outputs": [
    {
     "data": {
      "text/plain": [
       "3"
      ]
     },
     "execution_count": 4,
     "metadata": {},
     "output_type": "execute_result"
    }
   ],
   "source": [
    "a"
   ]
  },
  {
   "cell_type": "code",
   "execution_count": 5,
   "id": "70cb7831-beea-4853-8cdb-a32c6d9fa264",
   "metadata": {},
   "outputs": [
    {
     "name": "stdout",
     "output_type": "stream",
     "text": [
      "centurion university\n"
     ]
    }
   ],
   "source": [
    "print(\"centurion university\")"
   ]
  },
  {
   "cell_type": "code",
   "execution_count": 9,
   "id": "61a05058-025a-481d-8fb6-5409542bc55e",
   "metadata": {},
   "outputs": [],
   "source": [
    "b= 4.2"
   ]
  },
  {
   "cell_type": "code",
   "execution_count": 11,
   "id": "277975d2-6b8e-46f3-b776-b7bd44226ca6",
   "metadata": {},
   "outputs": [
    {
     "data": {
      "text/plain": [
       "4.2"
      ]
     },
     "execution_count": 11,
     "metadata": {},
     "output_type": "execute_result"
    }
   ],
   "source": [
    "b"
   ]
  },
  {
   "cell_type": "code",
   "execution_count": 13,
   "id": "e948c6fd-fa90-45c5-90d2-513220146ce8",
   "metadata": {},
   "outputs": [
    {
     "data": {
      "text/plain": [
       "int"
      ]
     },
     "execution_count": 13,
     "metadata": {},
     "output_type": "execute_result"
    }
   ],
   "source": [
    "type(a)"
   ]
  },
  {
   "cell_type": "code",
   "execution_count": 15,
   "id": "6e993e7f-b473-4a7f-bc59-73880a954f24",
   "metadata": {},
   "outputs": [
    {
     "data": {
      "text/plain": [
       "float"
      ]
     },
     "execution_count": 15,
     "metadata": {},
     "output_type": "execute_result"
    }
   ],
   "source": [
    "type(b)"
   ]
  },
  {
   "cell_type": "code",
   "execution_count": 17,
   "id": "bdc60b11-ef3a-4ce0-8d94-0f7d90170905",
   "metadata": {},
   "outputs": [
    {
     "data": {
      "text/plain": [
       "str"
      ]
     },
     "execution_count": 17,
     "metadata": {},
     "output_type": "execute_result"
    }
   ],
   "source": [
    "c= \"sushil\"\n",
    "type(c)"
   ]
  },
  {
   "cell_type": "code",
   "execution_count": 19,
   "id": "fdc46ac3-c6b2-4b42-a300-00973f6d0ef7",
   "metadata": {},
   "outputs": [
    {
     "data": {
      "text/plain": [
       "bool"
      ]
     },
     "execution_count": 19,
     "metadata": {},
     "output_type": "execute_result"
    }
   ],
   "source": [
    "d= True\n",
    "type(d)"
   ]
  },
  {
   "cell_type": "code",
   "execution_count": 21,
   "id": "706be22b-8463-4df4-aa98-5a395bd3b074",
   "metadata": {},
   "outputs": [
    {
     "data": {
      "text/plain": [
       "1"
      ]
     },
     "execution_count": 21,
     "metadata": {},
     "output_type": "execute_result"
    }
   ],
   "source": [
    "True - False"
   ]
  },
  {
   "cell_type": "code",
   "execution_count": 23,
   "id": "499bb39d-f698-4317-8132-eeb1446e9907",
   "metadata": {},
   "outputs": [
    {
     "data": {
      "text/plain": [
       "0"
      ]
     },
     "execution_count": 23,
     "metadata": {},
     "output_type": "execute_result"
    }
   ],
   "source": [
    "True* False"
   ]
  },
  {
   "cell_type": "code",
   "execution_count": 25,
   "id": "e9db887f-5ab9-4077-b25d-00a08973f537",
   "metadata": {},
   "outputs": [
    {
     "ename": "SyntaxError",
     "evalue": "invalid syntax (4074759871.py, line 1)",
     "output_type": "error",
     "traceback": [
      "\u001b[1;36m  Cell \u001b[1;32mIn[25], line 1\u001b[1;36m\u001b[0m\n\u001b[1;33m    True /False >> it will throw error\u001b[0m\n\u001b[1;37m                      ^\u001b[0m\n\u001b[1;31mSyntaxError\u001b[0m\u001b[1;31m:\u001b[0m invalid syntax\n"
     ]
    }
   ],
   "source": [
    "True /False >> it will throw error"
   ]
  },
  {
   "cell_type": "code",
   "execution_count": 27,
   "id": "f2ef9d7f-0337-4979-ad39-8e8945160ba6",
   "metadata": {},
   "outputs": [],
   "source": [
    "c= 5+6j # x+iy"
   ]
  },
  {
   "cell_type": "code",
   "execution_count": 29,
   "id": "bed3d83f-c868-47d4-bc9c-f08ca2b7dc93",
   "metadata": {},
   "outputs": [
    {
     "data": {
      "text/plain": [
       "complex"
      ]
     },
     "execution_count": 29,
     "metadata": {},
     "output_type": "execute_result"
    }
   ],
   "source": [
    "type(c)"
   ]
  },
  {
   "cell_type": "code",
   "execution_count": 31,
   "id": "2e95745f-80d9-4c90-aae9-e35c24c6b16c",
   "metadata": {},
   "outputs": [
    {
     "data": {
      "text/plain": [
       "5.0"
      ]
     },
     "execution_count": 31,
     "metadata": {},
     "output_type": "execute_result"
    }
   ],
   "source": [
    "c.real"
   ]
  },
  {
   "cell_type": "code",
   "execution_count": 33,
   "id": "45c15b01-260c-4cf4-bddd-8792f0ed8f06",
   "metadata": {},
   "outputs": [
    {
     "data": {
      "text/plain": [
       "6.0"
      ]
     },
     "execution_count": 33,
     "metadata": {},
     "output_type": "execute_result"
    }
   ],
   "source": [
    "c.imag"
   ]
  },
  {
   "cell_type": "markdown",
   "id": "bed3dc57-a607-42f4-98b0-fdff2a3fe59f",
   "metadata": {},
   "source": [
    "Rule of defining variable : A variable start with a letter or underscore character"
   ]
  },
  {
   "cell_type": "code",
   "execution_count": 36,
   "id": "b5223138-5475-4dc6-be50-d3205912c137",
   "metadata": {},
   "outputs": [
    {
     "ename": "SyntaxError",
     "evalue": "cannot assign to literal here. Maybe you meant '==' instead of '='? (2414822714.py, line 1)",
     "output_type": "error",
     "traceback": [
      "\u001b[1;36m  Cell \u001b[1;32mIn[36], line 1\u001b[1;36m\u001b[0m\n\u001b[1;33m    5 = a\u001b[0m\n\u001b[1;37m    ^\u001b[0m\n\u001b[1;31mSyntaxError\u001b[0m\u001b[1;31m:\u001b[0m cannot assign to literal here. Maybe you meant '==' instead of '='?\n"
     ]
    }
   ],
   "source": [
    "5 = a"
   ]
  },
  {
   "cell_type": "code",
   "execution_count": 38,
   "id": "0ab16b8e-af06-44d9-8aec-6bcc81ea66ce",
   "metadata": {},
   "outputs": [
    {
     "ename": "SyntaxError",
     "evalue": "invalid syntax (716986971.py, line 1)",
     "output_type": "error",
     "traceback": [
      "\u001b[1;36m  Cell \u001b[1;32mIn[38], line 1\u001b[1;36m\u001b[0m\n\u001b[1;33m    name \"pwskills\"\u001b[0m\n\u001b[1;37m         ^\u001b[0m\n\u001b[1;31mSyntaxError\u001b[0m\u001b[1;31m:\u001b[0m invalid syntax\n"
     ]
    }
   ],
   "source": [
    "name \"pwskills\""
   ]
  },
  {
   "cell_type": "code",
   "execution_count": 40,
   "id": "54d9c21a-8a2d-4e33-aec7-3ccc3ca9b284",
   "metadata": {},
   "outputs": [],
   "source": [
    "abc = 25 #valid"
   ]
  },
  {
   "cell_type": "code",
   "execution_count": 42,
   "id": "4b0dd9ac-3eda-46a7-9fc2-1a0129db2849",
   "metadata": {},
   "outputs": [
    {
     "data": {
      "text/plain": [
       "25"
      ]
     },
     "execution_count": 42,
     "metadata": {},
     "output_type": "execute_result"
    }
   ],
   "source": [
    "abc"
   ]
  },
  {
   "cell_type": "code",
   "execution_count": 44,
   "id": "9f3998a7-6f78-44b5-846f-66a7c9a04ecc",
   "metadata": {},
   "outputs": [
    {
     "ename": "SyntaxError",
     "evalue": "cannot assign to literal here. Maybe you meant '==' instead of '='? (1969295149.py, line 1)",
     "output_type": "error",
     "traceback": [
      "\u001b[1;36m  Cell \u001b[1;32mIn[44], line 1\u001b[1;36m\u001b[0m\n\u001b[1;33m    1 = abc # invalid\u001b[0m\n\u001b[1;37m    ^\u001b[0m\n\u001b[1;31mSyntaxError\u001b[0m\u001b[1;31m:\u001b[0m cannot assign to literal here. Maybe you meant '==' instead of '='?\n"
     ]
    }
   ],
   "source": [
    "1 = abc # invalid  "
   ]
  },
  {
   "cell_type": "code",
   "execution_count": 46,
   "id": "69bbda18-4fce-4be7-a2c1-8abc29336829",
   "metadata": {},
   "outputs": [],
   "source": [
    "_name = \"Sushil\""
   ]
  },
  {
   "cell_type": "code",
   "execution_count": 48,
   "id": "261be586-20eb-41ee-8db9-c5621cfe9c63",
   "metadata": {},
   "outputs": [
    {
     "data": {
      "text/plain": [
       "'Sushil'"
      ]
     },
     "execution_count": 48,
     "metadata": {},
     "output_type": "execute_result"
    }
   ],
   "source": [
    "_name"
   ]
  },
  {
   "cell_type": "code",
   "execution_count": 50,
   "id": "94e5fed8-6632-47f4-a392-eeb6ddad7b14",
   "metadata": {},
   "outputs": [],
   "source": [
    " location = \"bhagalpur\" "
   ]
  },
  {
   "cell_type": "code",
   "execution_count": 52,
   "id": "21b90081-dd03-4f1e-ae4e-e6c858cc00f7",
   "metadata": {},
   "outputs": [
    {
     "data": {
      "text/plain": [
       "'bhagalpur'"
      ]
     },
     "execution_count": 52,
     "metadata": {},
     "output_type": "execute_result"
    }
   ],
   "source": [
    " location"
   ]
  },
  {
   "cell_type": "code",
   "execution_count": 54,
   "id": "2c70b65e-9f5f-45f6-8c82-21d6061ab182",
   "metadata": {},
   "outputs": [],
   "source": [
    "abc = \"sanhoula\""
   ]
  },
  {
   "cell_type": "code",
   "execution_count": 56,
   "id": "39dd39df-1304-4434-bd9b-304e82dc3716",
   "metadata": {},
   "outputs": [
    {
     "data": {
      "text/plain": [
       "'sanhoula'"
      ]
     },
     "execution_count": 56,
     "metadata": {},
     "output_type": "execute_result"
    }
   ],
   "source": [
    "abc"
   ]
  },
  {
   "cell_type": "code",
   "execution_count": 58,
   "id": "f9c6756a-d311-4f74-9b31-7292543d1596",
   "metadata": {},
   "outputs": [
    {
     "ename": "SyntaxError",
     "evalue": "invalid syntax (4150908863.py, line 1)",
     "output_type": "error",
     "traceback": [
      "\u001b[1;36m  Cell \u001b[1;32mIn[58], line 1\u001b[1;36m\u001b[0m\n\u001b[1;33m    a bc = \"pwskills\" #invalid\u001b[0m\n\u001b[1;37m      ^\u001b[0m\n\u001b[1;31mSyntaxError\u001b[0m\u001b[1;31m:\u001b[0m invalid syntax\n"
     ]
    }
   ],
   "source": [
    "a bc = \"pwskills\" #invalid"
   ]
  },
  {
   "cell_type": "code",
   "execution_count": 60,
   "id": "89995809-390d-4069-bba6-bce08921ed67",
   "metadata": {},
   "outputs": [
    {
     "ename": "SyntaxError",
     "evalue": "invalid syntax (3018445932.py, line 1)",
     "output_type": "error",
     "traceback": [
      "\u001b[1;36m  Cell \u001b[1;32mIn[60], line 1\u001b[1;36m\u001b[0m\n\u001b[1;33m    data science = \" pwskills\" #invalid\u001b[0m\n\u001b[1;37m         ^\u001b[0m\n\u001b[1;31mSyntaxError\u001b[0m\u001b[1;31m:\u001b[0m invalid syntax\n"
     ]
    }
   ],
   "source": [
    "data science = \" pwskills\" #invalid"
   ]
  },
  {
   "cell_type": "code",
   "execution_count": 62,
   "id": "0f0319f5-f415-4ba9-b535-e82ac07aa613",
   "metadata": {},
   "outputs": [],
   "source": [
    "_abc = \"python\"# valid"
   ]
  },
  {
   "cell_type": "code",
   "execution_count": 64,
   "id": "bfaa7b1b-1f07-4616-a0e6-0b2fe681daa0",
   "metadata": {},
   "outputs": [],
   "source": [
    "i12 = \"pw batch\" # vallid"
   ]
  },
  {
   "cell_type": "code",
   "execution_count": 66,
   "id": "113d6dae-a5b7-4ec8-ac47-217dd058a4ce",
   "metadata": {},
   "outputs": [],
   "source": [
    "Data_analytics_ = \"pw\"  # valid"
   ]
  },
  {
   "cell_type": "code",
   "execution_count": 68,
   "id": "c8292de6-a147-4825-acbb-ea80dac4f228",
   "metadata": {},
   "outputs": [
    {
     "ename": "SyntaxError",
     "evalue": "invalid syntax. Maybe you meant '==' or ':=' instead of '='? (3752309493.py, line 1)",
     "output_type": "error",
     "traceback": [
      "\u001b[1;36m  Cell \u001b[1;32mIn[68], line 1\u001b[1;36m\u001b[0m\n\u001b[1;33m    @abc = \"sushil\" # invalid\u001b[0m\n\u001b[1;37m     ^\u001b[0m\n\u001b[1;31mSyntaxError\u001b[0m\u001b[1;31m:\u001b[0m invalid syntax. Maybe you meant '==' or ':=' instead of '='?\n"
     ]
    }
   ],
   "source": [
    "@abc = \"sushil\" # invalid"
   ]
  },
  {
   "cell_type": "code",
   "execution_count": 70,
   "id": "e95f37e0-8f6b-457c-bd65-1157b882f1d5",
   "metadata": {},
   "outputs": [
    {
     "name": "stderr",
     "output_type": "stream",
     "text": [
      "UsageError: Line magic function `%abc` not found.\n"
     ]
    }
   ],
   "source": [
    "%abc = \"a\""
   ]
  },
  {
   "cell_type": "code",
   "execution_count": 72,
   "id": "ca4322e6-cb9e-4cae-85a7-96e09d5ac421",
   "metadata": {},
   "outputs": [
    {
     "data": {
      "text/plain": [
       "5"
      ]
     },
     "execution_count": 72,
     "metadata": {},
     "output_type": "execute_result"
    }
   ],
   "source": [
    " # True / False   >> This is not be exeuted\n",
    "2+3"
   ]
  },
  {
   "cell_type": "code",
   "execution_count": 74,
   "id": "bef95526-7b75-4f92-a4a3-72721d1d4747",
   "metadata": {},
   "outputs": [],
   "source": [
    "var = 20 # i am assigning var value 20"
   ]
  },
  {
   "cell_type": "code",
   "execution_count": 76,
   "id": "1cac19d0-f01a-40e6-b0f8-9376c3685a11",
   "metadata": {},
   "outputs": [
    {
     "data": {
      "text/plain": [
       "20"
      ]
     },
     "execution_count": 76,
     "metadata": {},
     "output_type": "execute_result"
    }
   ],
   "source": [
    "var"
   ]
  },
  {
   "cell_type": "code",
   "execution_count": 78,
   "id": "8b8bd63a-2955-47d1-bdc8-d7fc457281ce",
   "metadata": {},
   "outputs": [],
   "source": [
    "# i am sushil data science student\n",
    "#science\n",
    "#and ml"
   ]
  },
  {
   "cell_type": "code",
   "execution_count": 80,
   "id": "d24cc309-67db-4185-9c7c-dd698d3940a3",
   "metadata": {},
   "outputs": [
    {
     "data": {
      "text/plain": [
       "' This is\\na multiple\\ncomment\\n'"
      ]
     },
     "execution_count": 80,
     "metadata": {},
     "output_type": "execute_result"
    }
   ],
   "source": [
    "\"\"\" This is\n",
    "a multiple\n",
    "comment\n",
    "\"\"\""
   ]
  },
  {
   "cell_type": "code",
   "execution_count": 82,
   "id": "eace7266-be53-4ac1-a46c-cf6f6a90d201",
   "metadata": {},
   "outputs": [],
   "source": [
    "# # This \n",
    "# is\n",
    "# a multiple\n",
    "# comment"
   ]
  },
  {
   "cell_type": "code",
   "execution_count": 84,
   "id": "d083b0c6-8873-4c99-a46a-63597c113519",
   "metadata": {},
   "outputs": [
    {
     "name": "stdout",
     "output_type": "stream",
     "text": [
      "hello world\n"
     ]
    }
   ],
   "source": [
    "print(\"hello world\")"
   ]
  },
  {
   "cell_type": "code",
   "execution_count": 86,
   "id": "b38ed954-b51a-458a-b71e-40cdef976a90",
   "metadata": {},
   "outputs": [
    {
     "name": "stdout",
     "output_type": "stream",
     "text": [
      "\n",
      "Here is a list of the Python keywords.  Enter any keyword to get more help.\n",
      "\n",
      "False               class               from                or\n",
      "None                continue            global              pass\n",
      "True                def                 if                  raise\n",
      "and                 del                 import              return\n",
      "as                  elif                in                  try\n",
      "assert              else                is                  while\n",
      "async               except              lambda              with\n",
      "await               finally             nonlocal            yield\n",
      "break               for                 not                 \n",
      "\n"
     ]
    }
   ],
   "source": [
    "help('keywords')"
   ]
  },
  {
   "cell_type": "code",
   "execution_count": 98,
   "id": "5d182cd4-6675-4ee7-a01c-1a0745047ea3",
   "metadata": {},
   "outputs": [
    {
     "name": "stdout",
     "output_type": "stream",
     "text": [
      "greater\n"
     ]
    }
   ],
   "source": [
    "\n",
    "#indentation\n",
    "if 3>2:\n",
    "    print(\"greater\")"
   ]
  },
  {
   "cell_type": "code",
   "execution_count": 88,
   "id": "341a9289-8648-42f5-8e82-42fe1e05aa17",
   "metadata": {},
   "outputs": [],
   "source": [
    "#statement\n",
    "a = 3 # assisnment statements"
   ]
  },
  {
   "cell_type": "code",
   "execution_count": 90,
   "id": "a30d1955-6220-45f7-8707-3e6579ab19b5",
   "metadata": {},
   "outputs": [
    {
     "data": {
      "text/plain": [
       "3"
      ]
     },
     "execution_count": 90,
     "metadata": {},
     "output_type": "execute_result"
    }
   ],
   "source": [
    "a"
   ]
  },
  {
   "cell_type": "code",
   "execution_count": 100,
   "id": "e5a3c496-10a6-461a-a21a-ddbfffd7d832",
   "metadata": {},
   "outputs": [
    {
     "data": {
      "text/plain": [
       "7"
      ]
     },
     "execution_count": 100,
     "metadata": {},
     "output_type": "execute_result"
    }
   ],
   "source": [
    "a = 3\n",
    "b = 4\n",
    "a+b # expression"
   ]
  },
  {
   "cell_type": "code",
   "execution_count": 102,
   "id": "6eb3ea77-6017-40eb-9ac7-aff8c119ea76",
   "metadata": {},
   "outputs": [],
   "source": [
    "a = 4"
   ]
  },
  {
   "cell_type": "code",
   "execution_count": 108,
   "id": "d3efaf85-74a7-4340-aa06-b47aea295912",
   "metadata": {},
   "outputs": [
    {
     "name": "stdin",
     "output_type": "stream",
     "text": [
      "please enter your name: 1\n"
     ]
    }
   ],
   "source": [
    "#standard input- output\n",
    "name = input ('please enter your name:')"
   ]
  },
  {
   "cell_type": "code",
   "execution_count": 110,
   "id": "2267d450-5063-40ee-803e-1db33e975565",
   "metadata": {},
   "outputs": [
    {
     "data": {
      "text/plain": [
       "'1'"
      ]
     },
     "execution_count": 110,
     "metadata": {},
     "output_type": "execute_result"
    }
   ],
   "source": [
    "name"
   ]
  },
  {
   "cell_type": "code",
   "execution_count": 112,
   "id": "26898146-ff49-47c2-ab28-de9ae34f8eaa",
   "metadata": {},
   "outputs": [
    {
     "data": {
      "text/plain": [
       "str"
      ]
     },
     "execution_count": 112,
     "metadata": {},
     "output_type": "execute_result"
    }
   ],
   "source": [
    "type(name)"
   ]
  },
  {
   "cell_type": "code",
   "execution_count": 114,
   "id": "df601e1b-0cd7-41d8-a39d-b25a81674727",
   "metadata": {},
   "outputs": [
    {
     "data": {
      "text/plain": [
       "1"
      ]
     },
     "execution_count": 114,
     "metadata": {},
     "output_type": "execute_result"
    }
   ],
   "source": [
    "int(name)"
   ]
  },
  {
   "cell_type": "code",
   "execution_count": 122,
   "id": "8e7fedc5-6e34-4167-9216-c6b7d3318be7",
   "metadata": {},
   "outputs": [
    {
     "data": {
      "text/plain": [
       "str"
      ]
     },
     "execution_count": 122,
     "metadata": {},
     "output_type": "execute_result"
    }
   ],
   "source": [
    "s = \"121\"\n",
    "type(s)"
   ]
  },
  {
   "cell_type": "code",
   "execution_count": 124,
   "id": "4c88fe7d-cba8-415c-a2f3-e81fdd1928eb",
   "metadata": {},
   "outputs": [
    {
     "data": {
      "text/plain": [
       "121"
      ]
     },
     "execution_count": 124,
     "metadata": {},
     "output_type": "execute_result"
    }
   ],
   "source": [
    "int(s)"
   ]
  },
  {
   "cell_type": "code",
   "execution_count": 128,
   "id": "f450e623-f456-42b7-b2c7-66989dc29d36",
   "metadata": {},
   "outputs": [
    {
     "data": {
      "text/plain": [
       "str"
      ]
     },
     "execution_count": 128,
     "metadata": {},
     "output_type": "execute_result"
    }
   ],
   "source": [
    " s = \"1.21\"\n",
    " type(s)"
   ]
  },
  {
   "cell_type": "code",
   "execution_count": 130,
   "id": "a43a3746-c490-4f79-9bdd-61a35412abe0",
   "metadata": {},
   "outputs": [
    {
     "data": {
      "text/plain": [
       "1.21"
      ]
     },
     "execution_count": 130,
     "metadata": {},
     "output_type": "execute_result"
    }
   ],
   "source": [
    "float(s)"
   ]
  },
  {
   "cell_type": "code",
   "execution_count": 132,
   "id": "d9ac45c5-a805-4e90-82d3-fffa19248aec",
   "metadata": {},
   "outputs": [
    {
     "data": {
      "text/plain": [
       "False"
      ]
     },
     "execution_count": 132,
     "metadata": {},
     "output_type": "execute_result"
    }
   ],
   "source": [
    "bool(0)"
   ]
  },
  {
   "cell_type": "code",
   "execution_count": 134,
   "id": "97c7d2f5-8299-4461-ab08-c31f310275f7",
   "metadata": {},
   "outputs": [
    {
     "data": {
      "text/plain": [
       "True"
      ]
     },
     "execution_count": 134,
     "metadata": {},
     "output_type": "execute_result"
    }
   ],
   "source": [
    "bool(1)"
   ]
  },
  {
   "cell_type": "code",
   "execution_count": 136,
   "id": "510d2a2a-660c-444d-a18d-100ec10ea94d",
   "metadata": {},
   "outputs": [
    {
     "ename": "ValueError",
     "evalue": "invalid literal for int() with base 10: 'sushil'",
     "output_type": "error",
     "traceback": [
      "\u001b[1;31m---------------------------------------------------------------------------\u001b[0m",
      "\u001b[1;31mValueError\u001b[0m                                Traceback (most recent call last)",
      "Cell \u001b[1;32mIn[136], line 2\u001b[0m\n\u001b[0;32m      1\u001b[0m a \u001b[38;5;241m=\u001b[39m \u001b[38;5;124m\"\u001b[39m\u001b[38;5;124msushil\u001b[39m\u001b[38;5;124m\"\u001b[39m\n\u001b[1;32m----> 2\u001b[0m \u001b[38;5;28mint\u001b[39m(a)\n",
      "\u001b[1;31mValueError\u001b[0m: invalid literal for int() with base 10: 'sushil'"
     ]
    }
   ],
   "source": [
    "a = \"sushil\"\n",
    "int(a) #throw an error"
   ]
  },
  {
   "cell_type": "code",
   "execution_count": 138,
   "id": "cf747ac7-6a3c-4afc-8cb7-e872e7b519bb",
   "metadata": {},
   "outputs": [],
   "source": [
    "a = 3"
   ]
  },
  {
   "cell_type": "code",
   "execution_count": 142,
   "id": "5837511a-0df8-4bd9-838a-198a5512780b",
   "metadata": {},
   "outputs": [
    {
     "data": {
      "text/plain": [
       "3"
      ]
     },
     "execution_count": 142,
     "metadata": {},
     "output_type": "execute_result"
    }
   ],
   "source": [
    "#python is case senstive\n",
    "a"
   ]
  },
  {
   "cell_type": "code",
   "execution_count": null,
   "id": "b8435dff-1447-46f5-a573-c95b0f0d0447",
   "metadata": {},
   "outputs": [],
   "source": []
  }
 ],
 "metadata": {
  "kernelspec": {
   "display_name": "Python 3 (ipykernel)",
   "language": "python",
   "name": "python3"
  },
  "language_info": {
   "codemirror_mode": {
    "name": "ipython",
    "version": 3
   },
   "file_extension": ".py",
   "mimetype": "text/x-python",
   "name": "python",
   "nbconvert_exporter": "python",
   "pygments_lexer": "ipython3",
   "version": "3.12.4"
  }
 },
 "nbformat": 4,
 "nbformat_minor": 5
}
