{
 "cells": [
  {
   "cell_type": "code",
   "execution_count": 2,
   "id": "e8219d5f-d143-47db-ac7d-b0b88cb80faa",
   "metadata": {},
   "outputs": [
    {
     "name": "stdout",
     "output_type": "stream",
     "text": [
      "hello world\n"
     ]
    }
   ],
   "source": [
    "print(\"hello world\")"
   ]
  },
  {
   "cell_type": "code",
   "execution_count": 4,
   "id": "92180a03-ceef-4f84-98e6-f34b19843863",
   "metadata": {},
   "outputs": [
    {
     "name": "stdout",
     "output_type": "stream",
     "text": [
      "hello world\n"
     ]
    }
   ],
   "source": [
    "print(\"hello world\") #open and close brackets"
   ]
  },
  {
   "cell_type": "code",
   "execution_count": 8,
   "id": "681430bd-419e-4128-9db7-2e133011c789",
   "metadata": {},
   "outputs": [],
   "source": [
    "a = 3"
   ]
  },
  {
   "cell_type": "code",
   "execution_count": 10,
   "id": "ac8eebae-eb15-4b62-898d-973ef161f0a5",
   "metadata": {},
   "outputs": [
    {
     "data": {
      "text/plain": [
       "3"
      ]
     },
     "execution_count": 10,
     "metadata": {},
     "output_type": "execute_result"
    }
   ],
   "source": [
    "a"
   ]
  },
  {
   "cell_type": "markdown",
   "id": "2db7b578-64c1-4269-abe5-c9fe2439f2eb",
   "metadata": {},
   "source": [
    "#variable are placeholder where we will keep variety of data which we can use to write logic"
   ]
  },
  {
   "cell_type": "code",
   "execution_count": 13,
   "id": "927119c4-7ba4-4565-8b45-3f83d0c7479e",
   "metadata": {},
   "outputs": [
    {
     "data": {
      "text/plain": [
       "int"
      ]
     },
     "execution_count": 13,
     "metadata": {},
     "output_type": "execute_result"
    }
   ],
   "source": [
    "type(a)"
   ]
  },
  {
   "cell_type": "code",
   "execution_count": 15,
   "id": "47449478-4e58-4ce0-8444-1532fd135c15",
   "metadata": {},
   "outputs": [],
   "source": [
    "b= 4.2"
   ]
  },
  {
   "cell_type": "code",
   "execution_count": 17,
   "id": "ac786bbd-d6dd-44f7-a7b2-467d9ce4119c",
   "metadata": {},
   "outputs": [
    {
     "data": {
      "text/plain": [
       "4.2"
      ]
     },
     "execution_count": 17,
     "metadata": {},
     "output_type": "execute_result"
    }
   ],
   "source": [
    "b"
   ]
  },
  {
   "cell_type": "code",
   "execution_count": 19,
   "id": "013de533-7ebe-414f-995f-eac43e7e3446",
   "metadata": {},
   "outputs": [
    {
     "data": {
      "text/plain": [
       "float"
      ]
     },
     "execution_count": 19,
     "metadata": {},
     "output_type": "execute_result"
    }
   ],
   "source": [
    "type(b)"
   ]
  },
  {
   "cell_type": "code",
   "execution_count": 21,
   "id": "853de85b-8813-47a5-8924-3276618b0676",
   "metadata": {},
   "outputs": [],
   "source": [
    "sushil = 4"
   ]
  },
  {
   "cell_type": "code",
   "execution_count": 23,
   "id": "6aaff08a-8728-44ab-9bc5-2fa561bf0d32",
   "metadata": {},
   "outputs": [
    {
     "data": {
      "text/plain": [
       "4"
      ]
     },
     "execution_count": 23,
     "metadata": {},
     "output_type": "execute_result"
    }
   ],
   "source": [
    "sushil"
   ]
  },
  {
   "cell_type": "code",
   "execution_count": 25,
   "id": "e3a85af4-6e55-4206-8b59-5ef5b276e918",
   "metadata": {},
   "outputs": [],
   "source": [
    "a = \"sushil\""
   ]
  },
  {
   "cell_type": "code",
   "execution_count": 27,
   "id": "221dcd9b-2804-4ad3-87a1-bbdcbcb77f12",
   "metadata": {},
   "outputs": [
    {
     "data": {
      "text/plain": [
       "str"
      ]
     },
     "execution_count": 27,
     "metadata": {},
     "output_type": "execute_result"
    }
   ],
   "source": [
    "type(a)"
   ]
  },
  {
   "cell_type": "code",
   "execution_count": 29,
   "id": "f62c95c3-18b4-48bb-a9c4-2b483484dd19",
   "metadata": {},
   "outputs": [],
   "source": [
    "d = True"
   ]
  },
  {
   "cell_type": "code",
   "execution_count": 31,
   "id": "187493ed-0c8d-4844-a025-e6315a0a1ce2",
   "metadata": {},
   "outputs": [
    {
     "data": {
      "text/plain": [
       "bool"
      ]
     },
     "execution_count": 31,
     "metadata": {},
     "output_type": "execute_result"
    }
   ],
   "source": [
    "type(d)"
   ]
  },
  {
   "cell_type": "code",
   "execution_count": 33,
   "id": "048588c3-e322-46be-b7cb-cf5e5f29de60",
   "metadata": {},
   "outputs": [
    {
     "data": {
      "text/plain": [
       "bool"
      ]
     },
     "execution_count": 33,
     "metadata": {},
     "output_type": "execute_result"
    }
   ],
   "source": [
    "a = False\n",
    "type(a)"
   ]
  },
  {
   "cell_type": "code",
   "execution_count": 39,
   "id": "c06e78cb-48da-4794-a5a8-b2b5d9c65539",
   "metadata": {},
   "outputs": [
    {
     "data": {
      "text/plain": [
       "1"
      ]
     },
     "execution_count": 39,
     "metadata": {},
     "output_type": "execute_result"
    }
   ],
   "source": [
    "True-False"
   ]
  },
  {
   "cell_type": "code",
   "execution_count": 41,
   "id": "e87dcd4d-f58a-4647-b953-765b206b4c11",
   "metadata": {},
   "outputs": [
    {
     "data": {
      "text/plain": [
       "0"
      ]
     },
     "execution_count": 41,
     "metadata": {},
     "output_type": "execute_result"
    }
   ],
   "source": [
    "True*False"
   ]
  },
  {
   "cell_type": "markdown",
   "id": "8debea1d-2400-4551-9d5d-6ca820c12a2f",
   "metadata": {},
   "source": [
    "True/False>it will throw error"
   ]
  },
  {
   "cell_type": "code",
   "execution_count": 44,
   "id": "e0a0d751-cddb-4b6d-9ffa-ccfc1c669314",
   "metadata": {},
   "outputs": [],
   "source": [
    "c = 5+6j #x+iy"
   ]
  },
  {
   "cell_type": "code",
   "execution_count": 46,
   "id": "3749e737-b262-4eb7-a378-bc987ff0673a",
   "metadata": {},
   "outputs": [
    {
     "data": {
      "text/plain": [
       "complex"
      ]
     },
     "execution_count": 46,
     "metadata": {},
     "output_type": "execute_result"
    }
   ],
   "source": [
    "type(c)"
   ]
  },
  {
   "cell_type": "code",
   "execution_count": 48,
   "id": "9a02999b-accd-4ce4-ab99-791b168f8805",
   "metadata": {},
   "outputs": [
    {
     "data": {
      "text/plain": [
       "5.0"
      ]
     },
     "execution_count": 48,
     "metadata": {},
     "output_type": "execute_result"
    }
   ],
   "source": [
    "c.real"
   ]
  },
  {
   "cell_type": "code",
   "execution_count": 52,
   "id": "bf0a3798-6bb4-43f0-8b44-92341f05a664",
   "metadata": {},
   "outputs": [
    {
     "data": {
      "text/plain": [
       "6.0"
      ]
     },
     "execution_count": 52,
     "metadata": {},
     "output_type": "execute_result"
    }
   ],
   "source": [
    "c.imag"
   ]
  },
  {
   "cell_type": "markdown",
   "id": "77a71ec1-bd01-4e06-b294-c8800ac30417",
   "metadata": {},
   "source": [
    "Rules of defining variable \n",
    "A variable start with a letter or underscore character"
   ]
  },
  {
   "cell_type": "code",
   "execution_count": 56,
   "id": "47589095-4d67-43fc-8517-291cb2026ed2",
   "metadata": {},
   "outputs": [],
   "source": [
    "s = a"
   ]
  },
  {
   "cell_type": "code",
   "execution_count": 62,
   "id": "42bda58a-e379-4455-af00-545bbc3a76d4",
   "metadata": {},
   "outputs": [
    {
     "ename": "SyntaxError",
     "evalue": "invalid decimal literal (553091725.py, line 1)",
     "output_type": "error",
     "traceback": [
      "\u001b[1;36m  Cell \u001b[1;32mIn[62], line 1\u001b[1;36m\u001b[0m\n\u001b[1;33m    1name = \"gopal kirana store\" #This is invalid variable\u001b[0m\n\u001b[1;37m    ^\u001b[0m\n\u001b[1;31mSyntaxError\u001b[0m\u001b[1;31m:\u001b[0m invalid decimal literal\n"
     ]
    }
   ],
   "source": [
    "1name = \"gopal kirana store\" #This is invalid variable"
   ]
  },
  {
   "cell_type": "code",
   "execution_count": 68,
   "id": "aa385874-51f2-407e-bcfe-562d7599e19d",
   "metadata": {},
   "outputs": [],
   "source": [
    "abc = 25 #valid"
   ]
  },
  {
   "cell_type": "code",
   "execution_count": 66,
   "id": "4c2d3c24-f2a1-41b8-a78f-a26cac1f4679",
   "metadata": {},
   "outputs": [
    {
     "data": {
      "text/plain": [
       "25"
      ]
     },
     "execution_count": 66,
     "metadata": {},
     "output_type": "execute_result"
    }
   ],
   "source": [
    "abc"
   ]
  },
  {
   "cell_type": "code",
   "execution_count": 70,
   "id": "285a9d29-3930-4c20-9029-40a7102041ee",
   "metadata": {},
   "outputs": [
    {
     "ename": "SyntaxError",
     "evalue": "cannot assign to literal here. Maybe you meant '==' instead of '='? (291497519.py, line 1)",
     "output_type": "error",
     "traceback": [
      "\u001b[1;36m  Cell \u001b[1;32mIn[70], line 1\u001b[1;36m\u001b[0m\n\u001b[1;33m    1= abc#invalid\u001b[0m\n\u001b[1;37m    ^\u001b[0m\n\u001b[1;31mSyntaxError\u001b[0m\u001b[1;31m:\u001b[0m cannot assign to literal here. Maybe you meant '==' instead of '='?\n"
     ]
    }
   ],
   "source": [
    "1= abc#invalid"
   ]
  },
  {
   "cell_type": "code",
   "execution_count": 72,
   "id": "6fb4cc0f-3381-491e-bb8b-7aa2b94169b1",
   "metadata": {},
   "outputs": [],
   "source": [
    "_name = \"sushil\""
   ]
  },
  {
   "cell_type": "code",
   "execution_count": 74,
   "id": "626342a8-e5cd-4477-a87c-4bd590009034",
   "metadata": {},
   "outputs": [
    {
     "data": {
      "text/plain": [
       "'sushil'"
      ]
     },
     "execution_count": 74,
     "metadata": {},
     "output_type": "execute_result"
    }
   ],
   "source": [
    "_name"
   ]
  },
  {
   "cell_type": "code",
   "execution_count": 76,
   "id": "517fa96b-045b-443a-bb33-d233be3aafd8",
   "metadata": {},
   "outputs": [],
   "source": [
    "location = \"Bhagalpur\""
   ]
  },
  {
   "cell_type": "code",
   "execution_count": 78,
   "id": "45eb6fb7-0f65-43e4-b5bc-31ba253a9b61",
   "metadata": {},
   "outputs": [
    {
     "data": {
      "text/plain": [
       "'Bhagalpur'"
      ]
     },
     "execution_count": 78,
     "metadata": {},
     "output_type": "execute_result"
    }
   ],
   "source": [
    "location"
   ]
  },
  {
   "cell_type": "code",
   "execution_count": 80,
   "id": "6de364a9-e561-444e-b160-852cd118185d",
   "metadata": {},
   "outputs": [],
   "source": [
    "abc= \"bhagalpur\""
   ]
  },
  {
   "cell_type": "code",
   "execution_count": 82,
   "id": "e56e54e2-a616-4857-aa08-d72cf5ea78a3",
   "metadata": {},
   "outputs": [
    {
     "data": {
      "text/plain": [
       "'bhagalpur'"
      ]
     },
     "execution_count": 82,
     "metadata": {},
     "output_type": "execute_result"
    }
   ],
   "source": [
    "abc"
   ]
  },
  {
   "cell_type": "code",
   "execution_count": 84,
   "id": "1a90d72f-ca9f-462d-ba2a-130fa57b769d",
   "metadata": {},
   "outputs": [
    {
     "ename": "SyntaxError",
     "evalue": "invalid syntax (715433079.py, line 1)",
     "output_type": "error",
     "traceback": [
      "\u001b[1;36m  Cell \u001b[1;32mIn[84], line 1\u001b[1;36m\u001b[0m\n\u001b[1;33m    a bc = \"gopal kirana store\"#invalid\u001b[0m\n\u001b[1;37m      ^\u001b[0m\n\u001b[1;31mSyntaxError\u001b[0m\u001b[1;31m:\u001b[0m invalid syntax\n"
     ]
    }
   ],
   "source": [
    "a bc = \"gopal kirana store\"#invalid"
   ]
  },
  {
   "cell_type": "code",
   "execution_count": 86,
   "id": "9094dafe-4b7f-491f-a024-363ec45cf805",
   "metadata": {},
   "outputs": [
    {
     "ename": "SyntaxError",
     "evalue": "invalid syntax (1930449060.py, line 1)",
     "output_type": "error",
     "traceback": [
      "\u001b[1;36m  Cell \u001b[1;32mIn[86], line 1\u001b[1;36m\u001b[0m\n\u001b[1;33m    data science = \"pwskills\" #invalid\u001b[0m\n\u001b[1;37m         ^\u001b[0m\n\u001b[1;31mSyntaxError\u001b[0m\u001b[1;31m:\u001b[0m invalid syntax\n"
     ]
    }
   ],
   "source": [
    "data science = \"pwskills\" #invalid"
   ]
  },
  {
   "cell_type": "code",
   "execution_count": 90,
   "id": "2b61baba-9089-4744-a4ee-d809ff192b0e",
   "metadata": {},
   "outputs": [
    {
     "ename": "SyntaxError",
     "evalue": "invalid syntax (3928714324.py, line 1)",
     "output_type": "error",
     "traceback": [
      "\u001b[1;36m  Cell \u001b[1;32mIn[90], line 1\u001b[1;36m\u001b[0m\n\u001b[1;33m    data analytics_course = \"sushil\" #invalid\u001b[0m\n\u001b[1;37m         ^\u001b[0m\n\u001b[1;31mSyntaxError\u001b[0m\u001b[1;31m:\u001b[0m invalid syntax\n"
     ]
    }
   ],
   "source": [
    "data analytics_course = \"sushil\" #invalid"
   ]
  },
  {
   "cell_type": "code",
   "execution_count": 92,
   "id": "4b57860f-c5e0-498e-8187-47664e3c1b90",
   "metadata": {},
   "outputs": [],
   "source": [
    "_bc = \"python\" #valid"
   ]
  },
  {
   "cell_type": "code",
   "execution_count": 94,
   "id": "ecdf51bc-aa4b-461b-9700-5ae0bd982fe0",
   "metadata": {},
   "outputs": [],
   "source": [
    "i12 = \"pw batch\" #valid"
   ]
  },
  {
   "cell_type": "code",
   "execution_count": 96,
   "id": "ecd07a89-6e43-4bcc-8e0a-eba6a56cd54f",
   "metadata": {},
   "outputs": [],
   "source": [
    "Data_Analytics = \"pw\"#valid"
   ]
  },
  {
   "cell_type": "code",
   "execution_count": 98,
   "id": "1cc2039d-07f1-44ff-8972-ee301335d319",
   "metadata": {},
   "outputs": [
    {
     "ename": "SyntaxError",
     "evalue": "invalid syntax. Maybe you meant '==' or ':=' instead of '='? (4280353250.py, line 1)",
     "output_type": "error",
     "traceback": [
      "\u001b[1;36m  Cell \u001b[1;32mIn[98], line 1\u001b[1;36m\u001b[0m\n\u001b[1;33m    @abc = \"sushil\" #invalid\u001b[0m\n\u001b[1;37m     ^\u001b[0m\n\u001b[1;31mSyntaxError\u001b[0m\u001b[1;31m:\u001b[0m invalid syntax. Maybe you meant '==' or ':=' instead of '='?\n"
     ]
    }
   ],
   "source": [
    "@abc = \"sushil\" #invalid"
   ]
  },
  {
   "cell_type": "code",
   "execution_count": 100,
   "id": "23331a56-627e-4bcc-8c84-494d08a09805",
   "metadata": {},
   "outputs": [
    {
     "name": "stderr",
     "output_type": "stream",
     "text": [
      "UsageError: Line magic function `%abc` not found.\n"
     ]
    }
   ],
   "source": [
    "%abc =\"a\""
   ]
  },
  {
   "cell_type": "code",
   "execution_count": 106,
   "id": "5803f74b-ca5f-46b4-be05-977cf62bb2f7",
   "metadata": {},
   "outputs": [
    {
     "data": {
      "text/plain": [
       "5"
      ]
     },
     "execution_count": 106,
     "metadata": {},
     "output_type": "execute_result"
    }
   ],
   "source": [
    "#True / False >>This will not be executed\n",
    "2+3"
   ]
  },
  {
   "cell_type": "code",
   "execution_count": 108,
   "id": "b9e8ef4b-3a69-47b1-a2eb-67ce9961aa53",
   "metadata": {},
   "outputs": [],
   "source": [
    "var = 20 #i am assigning var value 20"
   ]
  },
  {
   "cell_type": "code",
   "execution_count": 110,
   "id": "3d055939-911f-4caa-a943-850d6d0b0049",
   "metadata": {},
   "outputs": [
    {
     "data": {
      "text/plain": [
       "20"
      ]
     },
     "execution_count": 110,
     "metadata": {},
     "output_type": "execute_result"
    }
   ],
   "source": [
    "var"
   ]
  },
  {
   "cell_type": "code",
   "execution_count": 112,
   "id": "ae321e5f-9c51-4544-a21a-a305d4177ff6",
   "metadata": {},
   "outputs": [],
   "source": [
    "#i am sushil learning data\n",
    "#science\n",
    "#and ml"
   ]
  },
  {
   "cell_type": "code",
   "execution_count": 114,
   "id": "41cf8159-5dec-4ef8-908e-27ec377d43f6",
   "metadata": {},
   "outputs": [
    {
     "data": {
      "text/plain": [
       "' This ia a multiple comment'"
      ]
     },
     "execution_count": 114,
     "metadata": {},
     "output_type": "execute_result"
    }
   ],
   "source": [
    "\"\"\" This ia a multiple comment\"\"\""
   ]
  },
  {
   "cell_type": "code",
   "execution_count": 3,
   "id": "60bbdd66-fe10-4b04-9544-786e4984a71e",
   "metadata": {},
   "outputs": [],
   "source": [
    "#This is\n",
    "#a multiline\n",
    "#coment  "
   ]
  },
  {
   "cell_type": "code",
   "execution_count": 5,
   "id": "a0837e42-9488-40bd-b4eb-2b15fe2a9923",
   "metadata": {},
   "outputs": [
    {
     "name": "stdout",
     "output_type": "stream",
     "text": [
      "hello world\n"
     ]
    }
   ],
   "source": [
    "print(\"hello world\")"
   ]
  },
  {
   "cell_type": "code",
   "execution_count": 7,
   "id": "d1d740f4-2715-4b29-8fa3-66956049a15e",
   "metadata": {},
   "outputs": [],
   "source": [
    "#keywords in python are predefined words\n",
    "print = \"sushil\""
   ]
  },
  {
   "cell_type": "code",
   "execution_count": 9,
   "id": "09538f18-ed9c-4b10-8406-90f0c1f36ace",
   "metadata": {},
   "outputs": [
    {
     "data": {
      "text/plain": [
       "'sushil'"
      ]
     },
     "execution_count": 9,
     "metadata": {},
     "output_type": "execute_result"
    }
   ],
   "source": [
    "print"
   ]
  },
  {
   "cell_type": "code",
   "execution_count": 1,
   "id": "e986f3c6-e020-4aa9-a008-fb8d9c5d5b9f",
   "metadata": {},
   "outputs": [
    {
     "name": "stdout",
     "output_type": "stream",
     "text": [
      "Nitesh\n"
     ]
    }
   ],
   "source": [
    "print(\"Nitesh\")"
   ]
  },
  {
   "cell_type": "code",
   "execution_count": 3,
   "id": "2f558db7-1ea2-421c-87d3-896b30d952bf",
   "metadata": {},
   "outputs": [
    {
     "name": "stdout",
     "output_type": "stream",
     "text": [
      "\n",
      "Here is a list of the Python keywords.  Enter any keyword to get more help.\n",
      "\n",
      "False               class               from                or\n",
      "None                continue            global              pass\n",
      "True                def                 if                  raise\n",
      "and                 del                 import              return\n",
      "as                  elif                in                  try\n",
      "assert              else                is                  while\n",
      "async               except              lambda              with\n",
      "await               finally             nonlocal            yield\n",
      "break               for                 not                 \n",
      "\n"
     ]
    }
   ],
   "source": [
    "help('keywords')"
   ]
  },
  {
   "cell_type": "code",
   "execution_count": 7,
   "id": "d521bfa9-c050-4456-b8b1-2e44bc7ddea4",
   "metadata": {},
   "outputs": [
    {
     "name": "stdout",
     "output_type": "stream",
     "text": [
      "greater\n"
     ]
    }
   ],
   "source": [
    "#indentation\n",
    "if 3>2:\n",
    "    print(\"greater\")"
   ]
  },
  {
   "cell_type": "code",
   "execution_count": 9,
   "id": "a22286bb-0423-4242-98e4-fe218d60df99",
   "metadata": {},
   "outputs": [],
   "source": [
    "#statement\n",
    "a = 3 #assignment statement\n"
   ]
  },
  {
   "cell_type": "code",
   "execution_count": 11,
   "id": "f456300b-e01e-440e-bdeb-7eee319215c6",
   "metadata": {},
   "outputs": [
    {
     "data": {
      "text/plain": [
       "3"
      ]
     },
     "execution_count": 11,
     "metadata": {},
     "output_type": "execute_result"
    }
   ],
   "source": [
    "a"
   ]
  },
  {
   "cell_type": "code",
   "execution_count": 13,
   "id": "823ab98d-d365-482b-bd41-e187802b1296",
   "metadata": {},
   "outputs": [
    {
     "data": {
      "text/plain": [
       "7"
      ]
     },
     "execution_count": 13,
     "metadata": {},
     "output_type": "execute_result"
    }
   ],
   "source": [
    "a = 3\n",
    "b = 4\n",
    "a+b #expression"
   ]
  },
  {
   "cell_type": "code",
   "execution_count": 15,
   "id": "f04248f2-1645-4a54-ad90-a93e949041e9",
   "metadata": {},
   "outputs": [],
   "source": [
    "a = 4"
   ]
  },
  {
   "cell_type": "code",
   "execution_count": 17,
   "id": "fac0f4c9-3801-4d45-89c1-f54aae0a441d",
   "metadata": {},
   "outputs": [
    {
     "data": {
      "text/plain": [
       "4"
      ]
     },
     "execution_count": 17,
     "metadata": {},
     "output_type": "execute_result"
    }
   ],
   "source": [
    "a"
   ]
  },
  {
   "cell_type": "code",
   "execution_count": 9,
   "id": "4601c8d7-4b9e-46d6-bc6d-1998da1f9427",
   "metadata": {},
   "outputs": [
    {
     "name": "stdin",
     "output_type": "stream",
     "text": [
      "please enter your name :  1\n"
     ]
    }
   ],
   "source": [
    "#statement input-output\n",
    "name = input('please enter your name : ')"
   ]
  },
  {
   "cell_type": "code",
   "execution_count": 11,
   "id": "ed3bc056-ec59-4b68-9f81-c1caa4030c07",
   "metadata": {},
   "outputs": [
    {
     "data": {
      "text/plain": [
       "'1'"
      ]
     },
     "execution_count": 11,
     "metadata": {},
     "output_type": "execute_result"
    }
   ],
   "source": [
    "name"
   ]
  },
  {
   "cell_type": "code",
   "execution_count": 13,
   "id": "f7306f49-0ec9-42e1-bb37-3db1d914994c",
   "metadata": {},
   "outputs": [
    {
     "data": {
      "text/plain": [
       "str"
      ]
     },
     "execution_count": 13,
     "metadata": {},
     "output_type": "execute_result"
    }
   ],
   "source": [
    "type(name)"
   ]
  },
  {
   "cell_type": "code",
   "execution_count": 17,
   "id": "5a2a8a94-9116-489d-b9a4-9a546158be3e",
   "metadata": {},
   "outputs": [
    {
     "data": {
      "text/plain": [
       "1"
      ]
     },
     "execution_count": 17,
     "metadata": {},
     "output_type": "execute_result"
    }
   ],
   "source": [
    "#type caste\n",
    "int(name)"
   ]
  },
  {
   "cell_type": "code",
   "execution_count": 19,
   "id": "dcc85166-3c00-48b2-acf9-575fa4037606",
   "metadata": {},
   "outputs": [
    {
     "data": {
      "text/plain": [
       "str"
      ]
     },
     "execution_count": 19,
     "metadata": {},
     "output_type": "execute_result"
    }
   ],
   "source": [
    "s = \"123\"\n",
    "type(s)"
   ]
  },
  {
   "cell_type": "code",
   "execution_count": 21,
   "id": "35ee7bf9-f182-484c-ae4a-7737040981ac",
   "metadata": {},
   "outputs": [
    {
     "data": {
      "text/plain": [
       "123"
      ]
     },
     "execution_count": 21,
     "metadata": {},
     "output_type": "execute_result"
    }
   ],
   "source": [
    "int(s)"
   ]
  },
  {
   "cell_type": "code",
   "execution_count": 23,
   "id": "568c6fae-6674-437d-b88f-e78916e7f922",
   "metadata": {},
   "outputs": [
    {
     "data": {
      "text/plain": [
       "str"
      ]
     },
     "execution_count": 23,
     "metadata": {},
     "output_type": "execute_result"
    }
   ],
   "source": [
    "s = '1.23'\n",
    "type(s)"
   ]
  },
  {
   "cell_type": "code",
   "execution_count": 25,
   "id": "dc0d38bc-208e-49d3-a079-df090a25efba",
   "metadata": {},
   "outputs": [
    {
     "data": {
      "text/plain": [
       "1.23"
      ]
     },
     "execution_count": 25,
     "metadata": {},
     "output_type": "execute_result"
    }
   ],
   "source": [
    "float(s)"
   ]
  },
  {
   "cell_type": "code",
   "execution_count": 27,
   "id": "7a3e0e69-1fa0-43e9-b82a-cc9e5837bf5e",
   "metadata": {},
   "outputs": [
    {
     "data": {
      "text/plain": [
       "False"
      ]
     },
     "execution_count": 27,
     "metadata": {},
     "output_type": "execute_result"
    }
   ],
   "source": [
    "bool(0)"
   ]
  },
  {
   "cell_type": "code",
   "execution_count": 29,
   "id": "91c63a5a-91e5-4bff-ac6e-7bd4dd03dc11",
   "metadata": {},
   "outputs": [
    {
     "data": {
      "text/plain": [
       "True"
      ]
     },
     "execution_count": 29,
     "metadata": {},
     "output_type": "execute_result"
    }
   ],
   "source": [
    "bool(1)"
   ]
  },
  {
   "cell_type": "code",
   "execution_count": 31,
   "id": "f3c6d98c-9676-4f8a-84a3-ef09a45c96aa",
   "metadata": {},
   "outputs": [
    {
     "ename": "ValueError",
     "evalue": "invalid literal for int() with base 10: 'sushil'",
     "output_type": "error",
     "traceback": [
      "\u001b[1;31m---------------------------------------------------------------------------\u001b[0m",
      "\u001b[1;31mValueError\u001b[0m                                Traceback (most recent call last)",
      "Cell \u001b[1;32mIn[31], line 2\u001b[0m\n\u001b[0;32m      1\u001b[0m a \u001b[38;5;241m=\u001b[39m \u001b[38;5;124m\"\u001b[39m\u001b[38;5;124msushil\u001b[39m\u001b[38;5;124m\"\u001b[39m\n\u001b[1;32m----> 2\u001b[0m \u001b[38;5;28mint\u001b[39m(a)\n",
      "\u001b[1;31mValueError\u001b[0m: invalid literal for int() with base 10: 'sushil'"
     ]
    }
   ],
   "source": [
    "a = \"sushil\"\n",
    "int(a) #throw an error"
   ]
  },
  {
   "cell_type": "code",
   "execution_count": 33,
   "id": "48b693d3-1b57-4ed2-badc-dffb20457a44",
   "metadata": {},
   "outputs": [],
   "source": [
    "a =3"
   ]
  },
  {
   "cell_type": "code",
   "execution_count": 37,
   "id": "076110a0-b24a-455e-97c0-975bec415c28",
   "metadata": {},
   "outputs": [
    {
     "data": {
      "text/plain": [
       "3"
      ]
     },
     "execution_count": 37,
     "metadata": {},
     "output_type": "execute_result"
    }
   ],
   "source": [
    "#python is case sensetive\n",
    "a"
   ]
  },
  {
   "cell_type": "code",
   "execution_count": null,
   "id": "ace8d5ee-3eb4-4974-a355-1649922e3c6c",
   "metadata": {},
   "outputs": [],
   "source": []
  }
 ],
 "metadata": {
  "kernelspec": {
   "display_name": "Python 3 (ipykernel)",
   "language": "python",
   "name": "python3"
  },
  "language_info": {
   "codemirror_mode": {
    "name": "ipython",
    "version": 3
   },
   "file_extension": ".py",
   "mimetype": "text/x-python",
   "name": "python",
   "nbconvert_exporter": "python",
   "pygments_lexer": "ipython3",
   "version": "3.12.4"
  }
 },
 "nbformat": 4,
 "nbformat_minor": 5
}
