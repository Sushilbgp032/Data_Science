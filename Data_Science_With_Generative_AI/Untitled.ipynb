{
 "cells": [
  {
   "cell_type": "code",
   "execution_count": 1,
   "id": "97252182-b15e-47ab-ac74-e7bf15594650",
   "metadata": {},
   "outputs": [],
   "source": [
    "#conditional statement >> coding your decision based on same condition"
   ]
  },
  {
   "cell_type": "code",
   "execution_count": null,
   "id": "3e88cd3c-cfc6-4652-9980-ec9555f82a71",
   "metadata": {},
   "outputs": [],
   "source": [
    "# syntax\n",
    "# if condition true:\n",
    "# block of code execute"
   ]
  }
 ],
 "metadata": {
  "kernelspec": {
   "display_name": "Python 3 (ipykernel)",
   "language": "python",
   "name": "python3"
  },
  "language_info": {
   "codemirror_mode": {
    "name": "ipython",
    "version": 3
   },
   "file_extension": ".py",
   "mimetype": "text/x-python",
   "name": "python",
   "nbconvert_exporter": "python",
   "pygments_lexer": "ipython3",
   "version": "3.12.4"
  }
 },
 "nbformat": 4,
 "nbformat_minor": 5
}
