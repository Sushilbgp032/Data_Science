{
 "cells": [
  {
   "cell_type": "code",
   "execution_count": 1,
   "id": "f13b4dce-85bf-4f6d-97bc-7dbc1374ff2b",
   "metadata": {},
   "outputs": [],
   "source": [
    "a=3"
   ]
  },
  {
   "cell_type": "code",
   "execution_count": 3,
   "id": "c1174be0-567d-48e2-b72a-351151d2e7bb",
   "metadata": {},
   "outputs": [
    {
     "data": {
      "text/plain": [
       "3"
      ]
     },
     "execution_count": 3,
     "metadata": {},
     "output_type": "execute_result"
    }
   ],
   "source": [
    "a"
   ]
  },
  {
   "cell_type": "code",
   "execution_count": 7,
   "id": "7c2c69b1-c71a-4754-a379-38d90b829e49",
   "metadata": {},
   "outputs": [],
   "source": [
    "b = \"sushil\""
   ]
  },
  {
   "cell_type": "code",
   "execution_count": 9,
   "id": "f044b81a-4a53-4fae-a28e-0635b6195cbd",
   "metadata": {},
   "outputs": [
    {
     "data": {
      "text/plain": [
       "'sushil'"
      ]
     },
     "execution_count": 9,
     "metadata": {},
     "output_type": "execute_result"
    }
   ],
   "source": [
    "b"
   ]
  },
  {
   "cell_type": "code",
   "execution_count": 11,
   "id": "7db74b61-e66b-433c-bafa-c9b8182dfa17",
   "metadata": {},
   "outputs": [
    {
     "data": {
      "text/plain": [
       "'s'"
      ]
     },
     "execution_count": 11,
     "metadata": {},
     "output_type": "execute_result"
    }
   ],
   "source": [
    "b[2]"
   ]
  },
  {
   "cell_type": "code",
   "execution_count": 13,
   "id": "f72138b5-b26b-405e-ab9e-dbcefe4466a6",
   "metadata": {},
   "outputs": [],
   "source": [
    "#another type of data container\n",
    "list_cont = [1,2,3,\"sushil\",3+5j,True,\"s\"]"
   ]
  },
  {
   "cell_type": "code",
   "execution_count": 17,
   "id": "79a9b333-6aa4-46e4-9309-c13d4f4bb1f1",
   "metadata": {},
   "outputs": [
    {
     "data": {
      "text/plain": [
       "list"
      ]
     },
     "execution_count": 17,
     "metadata": {},
     "output_type": "execute_result"
    }
   ],
   "source": [
    "type(list_cont)"
   ]
  },
  {
   "cell_type": "code",
   "execution_count": 19,
   "id": "51d835e8-389a-4b4c-9281-02f0f05feee9",
   "metadata": {},
   "outputs": [
    {
     "data": {
      "text/plain": [
       "'sushil'"
      ]
     },
     "execution_count": 19,
     "metadata": {},
     "output_type": "execute_result"
    }
   ],
   "source": [
    "list_cont[3]"
   ]
  },
  {
   "cell_type": "code",
   "execution_count": 27,
   "id": "8f866611-321f-4878-a68e-8153f34eae02",
   "metadata": {},
   "outputs": [],
   "source": [
    "list_cont[3] = \"nitesh\""
   ]
  },
  {
   "cell_type": "code",
   "execution_count": 29,
   "id": "0a64e374-735b-4b97-9b85-a62768c92ff5",
   "metadata": {},
   "outputs": [
    {
     "data": {
      "text/plain": [
       "[1, 2, 3, 'nitesh', (3+5j), True, 's']"
      ]
     },
     "execution_count": 29,
     "metadata": {},
     "output_type": "execute_result"
    }
   ],
   "source": [
    "list_cont"
   ]
  },
  {
   "cell_type": "code",
   "execution_count": 31,
   "id": "3ecc36a4-4a57-411e-9fe2-b93bf3e0f3f3",
   "metadata": {},
   "outputs": [],
   "source": [
    "#objects/container whose state or value can be changed after they are created are called mutable"
   ]
  },
  {
   "cell_type": "code",
   "execution_count": 33,
   "id": "8fecd391-7bb7-4450-940e-d23ee304a623",
   "metadata": {},
   "outputs": [],
   "source": [
    "b = \"pwskills\""
   ]
  },
  {
   "cell_type": "code",
   "execution_count": 41,
   "id": "ac6ec13a-de45-4d65-9278-28216ffa0e62",
   "metadata": {},
   "outputs": [
    {
     "data": {
      "text/plain": [
       "'s'"
      ]
     },
     "execution_count": 41,
     "metadata": {},
     "output_type": "execute_result"
    }
   ],
   "source": [
    "b[2]"
   ]
  },
  {
   "cell_type": "code",
   "execution_count": 39,
   "id": "76db333c-16b1-48b1-b47f-0f2d67901ac0",
   "metadata": {},
   "outputs": [
    {
     "ename": "SyntaxError",
     "evalue": "'[' was never closed (1654838255.py, line 1)",
     "output_type": "error",
     "traceback": [
      "\u001b[1;36m  Cell \u001b[1;32mIn[39], line 1\u001b[1;36m\u001b[0m\n\u001b[1;33m    b[2 = \"i\"\u001b[0m\n\u001b[1;37m     ^\u001b[0m\n\u001b[1;31mSyntaxError\u001b[0m\u001b[1;31m:\u001b[0m '[' was never closed\n"
     ]
    }
   ],
   "source": [
    "b[2 = \"i\""
   ]
  },
  {
   "cell_type": "code",
   "execution_count": null,
   "id": "6bbf8e96-252e-4e15-bcc8-50878205e893",
   "metadata": {},
   "outputs": [],
   "source": []
  }
 ],
 "metadata": {
  "kernelspec": {
   "display_name": "Python 3 (ipykernel)",
   "language": "python",
   "name": "python3"
  },
  "language_info": {
   "codemirror_mode": {
    "name": "ipython",
    "version": 3
   },
   "file_extension": ".py",
   "mimetype": "text/x-python",
   "name": "python",
   "nbconvert_exporter": "python",
   "pygments_lexer": "ipython3",
   "version": "3.12.4"
  }
 },
 "nbformat": 4,
 "nbformat_minor": 5
}
